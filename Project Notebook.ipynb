{
 "cells": [
  {
   "cell_type": "markdown",
   "metadata": {},
   "source": [
    "# Advanced Lane Finding Project\n",
    "\n",
    "The goals / steps of this project are the following:\n",
    "\n",
    "* Compute the camera calibration matrix and distortion coefficients given a set of chessboard images.\n",
    "* Apply a distortion correction to raw images.\n",
    "* Use color transforms, gradients, etc., to create a thresholded binary image.\n",
    "* Apply a perspective transform to rectify binary image (\"birds-eye view\").\n",
    "* Detect lane pixels and fit to find the lane boundary.\n",
    "* Determine the curvature of the lane and vehicle position with respect to center.\n",
    "* Warp the detected lane boundaries back onto the original image.\n",
    "* Output visual display of the lane boundaries and numerical estimation of lane curvature and vehicle position.\n"
   ]
  },
  {
   "cell_type": "markdown",
   "metadata": {},
   "source": [
    "# import statements and misc. functions"
   ]
  },
  {
   "cell_type": "code",
   "execution_count": null,
   "metadata": {},
   "outputs": [],
   "source": [
    "# import statements\n",
    "import numpy as np\n",
    "import cv2\n",
    "import glob\n",
    "import matplotlib.image as mpimg\n",
    "import matplotlib.pyplot as plt\n",
    "import imageio\n",
    "imageio.plugins.ffmpeg.download()\n",
    "\n",
    "# Import everything needed to edit/save/watch video clips\n",
    "from moviepy.editor import VideoFileClip\n",
    "from IPython.display import HTML"
   ]
  },
  {
   "cell_type": "code",
   "execution_count": null,
   "metadata": {},
   "outputs": [],
   "source": [
    "def show_image(img, gray=True, bgr=False, title='image'):\n",
    "    if bgr:\n",
    "        img = cv2.cvtColor(img, cv2.COLOR_BGR2RGB)\n",
    "    plt.figure(figsize=(15, 7))\n",
    "    if gray == True:\n",
    "        plt.imshow(img, cmap='gray')\n",
    "    else:\n",
    "        plt.imshow(img)\n",
    "    plt.title(title, fontsize=20)"
   ]
  },
  {
   "cell_type": "markdown",
   "metadata": {},
   "source": [
    "## Calibrate Camera"
   ]
  },
  {
   "cell_type": "markdown",
   "metadata": {},
   "source": [
    "Find object points and image points"
   ]
  },
  {
   "cell_type": "code",
   "execution_count": null,
   "metadata": {},
   "outputs": [],
   "source": [
    "## load calibration images\n",
    "chess_images = glob.glob('camera_cal/calibration*.jpg')\n",
    "\n",
    "## create object points \n",
    "objp = np.zeros((6*9,3), np.float32)\n",
    "objp[:,:2] = np.mgrid[0:9,0:6].T.reshape(-1,2)\n",
    "\n",
    "## create lists to use in camera calibration\n",
    "obj_points = []\n",
    "image_points = []\n",
    "\n",
    "for image in chess_images:\n",
    "    \n",
    "    ## convert to grayscale\n",
    "    img = cv2.imread(image)\n",
    "    gray = cv2.cvtColor(img, cv2.COLOR_BGR2GRAY)\n",
    "    \n",
    "    # find corners\n",
    "    ret, corners = cv2.findChessboardCorners(gray, (9,6), None)\n",
    "    \n",
    "    # if corners were found, add obj and image points\n",
    "    if ret == True:\n",
    "        obj_points.append(objp)\n",
    "        image_points.append(corners)\n",
    "        \n",
    "        # draw and display corners\n",
    "#         img = cv2.drawChessboardCorners(img, (9,6), corners, ret)\n",
    "#         cv2.imshow('img', img)\n",
    "#         cv2.waitKey()\n",
    "    \n",
    "# cv2.destroyAllWindows()  "
   ]
  },
  {
   "cell_type": "markdown",
   "metadata": {},
   "source": [
    "Calculate camera matrix and distortion coefficients"
   ]
  },
  {
   "cell_type": "code",
   "execution_count": null,
   "metadata": {},
   "outputs": [],
   "source": [
    "ret, mtx, dist, rvecs, tvecs = cv2.calibrateCamera(obj_points, image_points, (1280, 720), None, None)"
   ]
  },
  {
   "cell_type": "markdown",
   "metadata": {},
   "source": [
    "# Undistort function"
   ]
  },
  {
   "cell_type": "code",
   "execution_count": null,
   "metadata": {},
   "outputs": [],
   "source": [
    "# undistort any image from this camera using previously found matrix and undistort coeffictions\n",
    "def undistort(img, mtx, dist):\n",
    "    return cv2.undistort(img, mtx, dist, None, mtx)"
   ]
  },
  {
   "cell_type": "code",
   "execution_count": null,
   "metadata": {},
   "outputs": [],
   "source": [
    "chess_images = glob.glob('camera_cal/calibration*.jpg')\n",
    "img = cv2.imread(chess_images[0])\n",
    "\n",
    "show_image(img, title='original')\n",
    "und = undistort(img, mtx, dist)\n",
    "show_image(und, title='undistorted')"
   ]
  },
  {
   "cell_type": "markdown",
   "metadata": {},
   "source": [
    "# Thresholding functions\n",
    "\n",
    "functions to take various thresholds: x gradient, y gradient, magnitude, direction, and multiple colorspaces"
   ]
  },
  {
   "cell_type": "code",
   "execution_count": null,
   "metadata": {},
   "outputs": [],
   "source": [
    "def abs_sobel_thresh(img, orient='x', sobel_kernel=3, thresh=(0,255)):\n",
    "    # convert to grayscale\n",
    "    gray = cv2.cvtColor(img, cv2.COLOR_BGR2GRAY)\n",
    "    \n",
    "    # choose direction of gradient\n",
    "    if orient == 'x':\n",
    "        sobel = cv2.Sobel(gray, cv2.CV_64F, 1, 0, ksize=sobel_kernel)\n",
    "    elif orient == 'y':\n",
    "        sobel = cv2.Sobel(gray, cv2.CV_64F, 0, 1, ksize=sobel_kernel)\n",
    "    else:\n",
    "        raise Exception('Orient must be x or y')\n",
    "    \n",
    "    # get absolute value of gradient image and scale to 8 bit\n",
    "    abs_sobel = np.absolute(sobel)\n",
    "    scaled_sobel = np.uint8(255*abs_sobel / np.max(abs_sobel))\n",
    "    \n",
    "    # binarize output image based on chosen threshold\n",
    "    binary_output = np.zeros_like(scaled_sobel)\n",
    "    binary_output[(scaled_sobel >= thresh[0]) & (scaled_sobel <= thresh[1])] = 1\n",
    "    \n",
    "    return binary_output"
   ]
  },
  {
   "cell_type": "code",
   "execution_count": null,
   "metadata": {},
   "outputs": [],
   "source": [
    "## must be jpg, not png \n",
    "\n",
    "def hls_thresh(img, channel='h', thresh=(0, 255)):\n",
    "    \n",
    "    # convert to HLS color space\n",
    "    hls = cv2.cvtColor(img, cv2.COLOR_BGR2HLS)\n",
    "    \n",
    "    # choose channel h, l, or s\n",
    "    if channel == 'h':\n",
    "        selected_channel = hls[:,:,0]\n",
    "    elif channel == 'l':\n",
    "        selected_channel = hls[:,:,1]\n",
    "    elif channel == 's':\n",
    "        selected_channel = hls[:,:,2]\n",
    "    else:\n",
    "        raise Exception('Channel must be h, l, or s')\n",
    "    \n",
    "    # binarize output base on chosen threshold\n",
    "    binary_output = np.zeros_like(selected_channel)\n",
    "    binary_output[(selected_channel >= thresh[0]) & (selected_channel <= thresh[1])] = 1\n",
    "    \n",
    "    return binary_output"
   ]
  },
  {
   "cell_type": "code",
   "execution_count": null,
   "metadata": {},
   "outputs": [],
   "source": [
    "## must be jpg, not png\n",
    "\n",
    "def bgr_thresh(img, channel='r', thresh=(0,255)):\n",
    "    \n",
    "    # choose channel r, g, or b\n",
    "    if channel == 'r':\n",
    "        selected_channel = img[:,:,2]\n",
    "    elif channel == 'g':\n",
    "        selected_channel = img[:,:,1]\n",
    "    elif channel == 'b':\n",
    "        selected_channel = img[:,:,0]\n",
    "    else:\n",
    "        raise Exception('Channel must be r, g, or b')\n",
    "    \n",
    "    # binarize output based on chosen threshold\n",
    "    binary_output = np.zeros_like(selected_channel)\n",
    "    binary_output[(selected_channel >= thresh[0]) & (selected_channel <= thresh[1])] = 1\n",
    "    \n",
    "    return binary_output"
   ]
  },
  {
   "cell_type": "markdown",
   "metadata": {},
   "source": [
    "# TESTING"
   ]
  },
  {
   "cell_type": "markdown",
   "metadata": {},
   "source": [
    "Testing threshold values"
   ]
  },
  {
   "cell_type": "code",
   "execution_count": null,
   "metadata": {
    "scrolled": false
   },
   "outputs": [],
   "source": [
    "# choose image\n",
    "test_images = glob.glob('test_images/*.jpg')\n",
    "num = 2\n",
    "img = cv2.imread(test_images[num])\n",
    "\n",
    "H_thresh = hls_thresh(img, channel='h', thresh=(20, 138))\n",
    "L_thresh = hls_thresh(img, channel='l', thresh=(100, 255))\n",
    "S_thresh = hls_thresh(img, channel='s', thresh=(12, 255))\n",
    "\n",
    "\n",
    "# display images\n",
    "show_image(img, title='original', bgr=True)\n",
    "show_image(H_thresh, title='H thresh')\n",
    "show_image(L_thresh, title='L thresh')\n",
    "show_image(S_thresh, title='S thresh')"
   ]
  },
  {
   "cell_type": "markdown",
   "metadata": {},
   "source": [
    "# Perspective transform\n",
    "\n",
    "change perspective to bird's eye view to see lane lines as parallel"
   ]
  },
  {
   "cell_type": "code",
   "execution_count": null,
   "metadata": {},
   "outputs": [],
   "source": [
    "# input values: np.float32([[width, height], [w,h], [w,h], [w,h]])\n",
    "# order: top_left, top_right, bottom_right, bottom_left\n",
    "# return M_inv for drawing lines on video\n",
    "\n",
    "def warp_perspective(image, src, dest):\n",
    "    # define image size for warpPerspective\n",
    "    image_size = (image.shape[1], image.shape[0])\n",
    "    \n",
    "    # get transformation matrix based on source and destination points\n",
    "    M = cv2.getPerspectiveTransform(src, dest)\n",
    "    \n",
    "    # get inverse matrix in order to transform back to original perspective\n",
    "    M_inv = cv2.getPerspectiveTransform(dest, src)\n",
    "    \n",
    "    # warp the perspective of the image\n",
    "    img = cv2.warpPerspective(image, M, image_size, flags=cv2.INTER_NEAREST)\n",
    "    \n",
    "    return img, M_inv"
   ]
  },
  {
   "cell_type": "markdown",
   "metadata": {},
   "source": [
    "# TESTING\n",
    "Test src and dest values"
   ]
  },
  {
   "cell_type": "code",
   "execution_count": null,
   "metadata": {},
   "outputs": [],
   "source": [
    "# choose image to load\n",
    "test_images = glob.glob('test_images/*.jpg')\n",
    "num = 0\n",
    "img = mpimg.imread(test_images[num])\n",
    "\n",
    "# undistort image\n",
    "undistorted = undistort(img, mtx, dist)\n",
    "\n",
    "# binary image\n",
    "sobel_x = abs_sobel_thresh(undistorted, orient='x', sobel_kernel=5, thresh=(20, 255))\n",
    "S_thresh = hls_thresh(undistorted, channel='s', thresh=(100, 240))\n",
    "combined = np.zeros_like(sobel_x)\n",
    "combined[(S_thresh == 1) | (sobel_x == 1)] = 1\n",
    "\n",
    "# define source points\n",
    "tls = [605, 440]\n",
    "trs = [675, 440]\n",
    "brs = [1045, 670]\n",
    "bls = [270, 670]\n",
    "\n",
    "# define destination points\n",
    "tld = [300,0]\n",
    "trd = [1000,0]\n",
    "brd = [1000,img.shape[0]]\n",
    "bld = [300,img.shape[0]]\n",
    "\n",
    "# define src and dest as np.float32 array\n",
    "src = np.float32([tls, trs, brs, bls])\n",
    "dest = np.float32([tld, trd, brd, bld])\n",
    "\n",
    "# warp image\n",
    "warped, M_inv = warp_perspective(combined, src, dest)\n",
    "\n",
    "# define polygon to draw\n",
    "poly = np.int32(src)\n",
    "poly2 = np.int32(dest)\n",
    "\n",
    "# draw lines on each image\n",
    "cv2.polylines(combined, [poly], True, (0,0,255))\n",
    "cv2.polylines(warped, [poly2], True, (0,0,255))\n",
    "\n",
    "#show_image(combined, title='Un-Warped')\n",
    "#show_image(warped, title='Perspective transformed')\n",
    "\n",
    "stacked = np.dstack((warped,warped,warped))\n",
    "stacked[stacked != 0] = 255\n",
    "resize = cv2.resize(stacked, (int(1280/3),int(720/3)))\n",
    "\n",
    "show_image(img)\n",
    "show_image(resize)\n",
    "\n",
    "edited = img.copy()\n",
    "edited[0:int(720/3), 0:int(1280/3)] = resize\n",
    "show_image(edited)"
   ]
  },
  {
   "cell_type": "markdown",
   "metadata": {},
   "source": [
    "# Detecting Lane Lines\n"
   ]
  },
  {
   "cell_type": "markdown",
   "metadata": {},
   "source": [
    "Find histogram peaks to locate starting x values of each lane"
   ]
  },
  {
   "cell_type": "code",
   "execution_count": null,
   "metadata": {},
   "outputs": [],
   "source": [
    "# INPUT: warped binary image \n",
    "def hist_peak(image):\n",
    "    # isolate bottom half of the image\n",
    "    half = image.shape[0] // 2\n",
    "    bottom_half = image[half:, :]\n",
    "    \n",
    "    # define histogram based on vertical sum of the bottom half of the image\n",
    "    histogram = np.sum(bottom_half, axis=0)\n",
    "    \n",
    "    return histogram"
   ]
  },
  {
   "cell_type": "markdown",
   "metadata": {},
   "source": [
    "Main function to fit polynomial"
   ]
  },
  {
   "cell_type": "code",
   "execution_count": null,
   "metadata": {},
   "outputs": [],
   "source": [
    "def fit_polynomial(binary_warped):\n",
    "    # Find our lane pixels first\n",
    "    # if a previous lane line was NOT detected, start from scratch using window search\n",
    "    # if a lane line WAS detected, search around the area of the previously detected line using search_around_poly()\n",
    "    if (left_line.detected == False) or (right_line.detected == False):\n",
    "        leftx, lefty, rightx, righty = find_lane_pixels(binary_warped)\n",
    "    else:\n",
    "        leftx, lefty, rightx, righty = search_around_poly(binary_warped)\n",
    "        \n",
    "     # Define conversions in x and y from pixels space to meters\n",
    "    ym_per_pix = 30/720 # meters per pixel in y dimension\n",
    "    xm_per_pix = 3.7/700 # meters per pixel in x dimension\n",
    "\n",
    "    ### Fit a second order polynomial to each using `np.polyfit`\n",
    "    left_fit = np.polyfit(lefty, leftx, 2)\n",
    "    left_fit_meters = np.polyfit(lefty*ym_per_pix, leftx*xm_per_pix, 2)\n",
    "    right_fit = np.polyfit(righty, rightx, 2)\n",
    "    right_fit_meters = np.polyfit(righty*ym_per_pix, rightx*xm_per_pix, 2)\n",
    "    \n",
    "    \n",
    "    ## calculate base X position of each line using current polynomial fit and max Y position (719)\n",
    "    left_line.line_base_pos = left_fit[0]*719**2 + left_fit[1]*719 + left_fit[2]\n",
    "    right_line.line_base_pos = right_fit[0]*719**2 + right_fit[1]*719 + right_fit[2]\n",
    "    \n",
    "    # set object variables to left and right fit coefficients in both pixels and meters\n",
    "    left_line.current_fit = left_fit\n",
    "    left_line.current_fit_meters = left_fit_meters\n",
    "    right_line.current_fit = right_fit\n",
    "    right_line.current_fit_meters = right_fit_meters\n",
    "    \n",
    "    # Generate x and y values for plotting\n",
    "    ploty = np.linspace(0, binary_warped.shape[0]-1, binary_warped.shape[0])\n",
    "    try:\n",
    "        left_fitx = left_fit[0]*ploty**2 + left_fit[1]*ploty + left_fit[2]\n",
    "        left_line.detected = True\n",
    "        \n",
    "        right_fitx = right_fit[0]*ploty**2 + right_fit[1]*ploty + right_fit[2]\n",
    "        right_line.detected = True\n",
    "        \n",
    "    except TypeError:\n",
    "        # Avoids an error if `left` and `right_fit` are still none or incorrect\n",
    "        print('The function failed to fit a line!')\n",
    "        left_fitx = 1*ploty**2 + 1*ploty\n",
    "        right_fitx = 1*ploty**2 + 1*ploty\n",
    "\n",
    "    return left_fitx, right_fitx, ploty"
   ]
  },
  {
   "cell_type": "markdown",
   "metadata": {},
   "source": [
    "Find lane pixels using sliding window search"
   ]
  },
  {
   "cell_type": "code",
   "execution_count": null,
   "metadata": {},
   "outputs": [],
   "source": [
    "def find_lane_pixels(binary_warped):\n",
    "    # Take a histogram of the bottom half of the image\n",
    "    histogram = hist_peak(binary_warped)\n",
    "    \n",
    "    # Find the peak of the left and right halves of the histogram\n",
    "    # These will be the starting point for the left and right lines\n",
    "    midpoint = np.int(histogram.shape[0]//2)\n",
    "    leftx_base = np.argmax(histogram[:midpoint])\n",
    "    rightx_base = np.argmax(histogram[midpoint:]) + midpoint\n",
    "\n",
    "    # HYPERPARAMETERS\n",
    "    # Choose the number of sliding windows\n",
    "    nwindows = 9\n",
    "    # Set the width of the windows +/- margin\n",
    "    margin = 75\n",
    "    # Set minimum number of pixels found to recenter window\n",
    "    minpix = 50\n",
    "    # Set height of windows - based on nwindows above and image shape\n",
    "    window_height = np.int(binary_warped.shape[0]//nwindows)\n",
    "    \n",
    "    \n",
    "    # Identify the x and y positions of all nonzero pixels in the image\n",
    "    nonzero = binary_warped.nonzero()\n",
    "    nonzeroy = np.array(nonzero[0])\n",
    "    nonzerox = np.array(nonzero[1])\n",
    "    # Current positions to be updated later for each window in nwindows\n",
    "    leftx_current = leftx_base\n",
    "    rightx_current = rightx_base\n",
    "\n",
    "    # Create empty lists to receive left and right lane pixel indices\n",
    "    left_lane_inds = []\n",
    "    right_lane_inds = []\n",
    "\n",
    "    # Step through the windows one by one\n",
    "    for window in range(nwindows):\n",
    "        # Identify window boundaries in x and y (and right and left)\n",
    "        win_y_low = binary_warped.shape[0] - (window+1)*window_height\n",
    "        win_y_high = binary_warped.shape[0] - window*window_height\n",
    "        win_xleft_low = leftx_current - margin\n",
    "        win_xleft_high = leftx_current + margin\n",
    "        win_xright_low = rightx_current - margin\n",
    "        win_xright_high = rightx_current + margin\n",
    "        \n",
    "        # Identify the nonzero pixels in x and y within the window #\n",
    "        good_left_inds = ((nonzeroy >= win_y_low) & (nonzeroy < win_y_high) & \n",
    "        (nonzerox >= win_xleft_low) &  (nonzerox < win_xleft_high)).nonzero()[0]\n",
    "        good_right_inds = ((nonzeroy >= win_y_low) & (nonzeroy < win_y_high) & \n",
    "        (nonzerox >= win_xright_low) &  (nonzerox < win_xright_high)).nonzero()[0]\n",
    "        \n",
    "        # Append these indices to the lists\n",
    "        left_lane_inds.append(good_left_inds)\n",
    "        right_lane_inds.append(good_right_inds)\n",
    "        \n",
    "        # If you found > minpix pixels, recenter next window on their mean position\n",
    "        if len(good_left_inds) > minpix:\n",
    "            leftx_current = np.int(np.mean(nonzerox[good_left_inds]))\n",
    "        if len(good_right_inds) > minpix:        \n",
    "            rightx_current = np.int(np.mean(nonzerox[good_right_inds]))\n",
    "\n",
    "    # Concatenate the arrays of indices (previously was a list of lists of pixels)\n",
    "    try:\n",
    "        left_lane_inds = np.concatenate(left_lane_inds)\n",
    "        right_lane_inds = np.concatenate(right_lane_inds)\n",
    "    except ValueError:\n",
    "        # Avoids an error if the above is not implemented fully\n",
    "        pass\n",
    "\n",
    "    # Extract left and right line pixel positions\n",
    "    leftx = nonzerox[left_lane_inds]\n",
    "    lefty = nonzeroy[left_lane_inds] \n",
    "    rightx = nonzerox[right_lane_inds]\n",
    "    righty = nonzeroy[right_lane_inds]\n",
    "\n",
    "    return leftx, lefty, rightx, righty\n",
    "\n"
   ]
  },
  {
   "cell_type": "markdown",
   "metadata": {},
   "source": [
    "Find lane pixels using previous fit heuristic"
   ]
  },
  {
   "cell_type": "code",
   "execution_count": null,
   "metadata": {},
   "outputs": [],
   "source": [
    "def search_around_poly(binary_warped):\n",
    "    # HYPERPARAMETER\n",
    "    margin = 50\n",
    "    \n",
    "    # Grab activated pixels\n",
    "    nonzero = binary_warped.nonzero()\n",
    "    nonzeroy = np.array(nonzero[0])\n",
    "    nonzerox = np.array(nonzero[1])\n",
    "    \n",
    "    ### create lane indices based on area around previous polynomial fit\n",
    "    \n",
    "    # load previous fit from saved object variables\n",
    "    left_fit = left_line.current_fit\n",
    "    right_fit = right_line.current_fit\n",
    "    \n",
    "    # isolate all indices within area of previous polynomial\n",
    "    left_lane_inds = ((nonzerox > (left_fit[0]*(nonzeroy**2) + left_fit[1]*nonzeroy + \n",
    "                    left_fit[2] - margin)) & (nonzerox < (left_fit[0]*(nonzeroy**2) + \n",
    "                    left_fit[1]*nonzeroy + left_fit[2] + margin)))\n",
    "    right_lane_inds = ((nonzerox > (right_fit[0]*(nonzeroy**2) + right_fit[1]*nonzeroy + \n",
    "                    right_fit[2] - margin)) & (nonzerox < (right_fit[0]*(nonzeroy**2) + \n",
    "                    right_fit[1]*nonzeroy + right_fit[2] + margin)))\n",
    "    \n",
    "    # extract left and right line pixel positions\n",
    "    leftx = nonzerox[left_lane_inds]\n",
    "    lefty = nonzeroy[left_lane_inds] \n",
    "    rightx = nonzerox[right_lane_inds]\n",
    "    righty = nonzeroy[right_lane_inds]\n",
    "    \n",
    "    return leftx, lefty, rightx, righty"
   ]
  },
  {
   "cell_type": "markdown",
   "metadata": {},
   "source": [
    "# Measure Curvature"
   ]
  },
  {
   "cell_type": "code",
   "execution_count": null,
   "metadata": {},
   "outputs": [],
   "source": [
    "def measure_curvature_real():\n",
    "    '''\n",
    "    Calculates the curvature of polynomial functions in meters.\n",
    "    '''\n",
    "    # Define conversions in x and y from pixels space to meters\n",
    "    ym_per_pix = 30/720 # meters per pixel in y dimension\n",
    "    xm_per_pix = 3.7/700 # meters per pixel in x dimension\n",
    "    \n",
    "    ploty, left_fit_cr, right_fit_cr = left_line.ploty, left_line.current_fit_meters, right_line.current_fit_meters\n",
    "    \n",
    "    # Define y-value where we want radius of curvature\n",
    "    # We'll choose the maximum y-value, corresponding to the bottom of the image\n",
    "    y_eval = np.max(ploty)\n",
    "    \n",
    "    # Calculation of R_curve (radius of curvature)\n",
    "    left_curverad = ((1 + (2*left_fit_cr[0]*y_eval*ym_per_pix + left_fit_cr[1])**2)**1.5) / np.absolute(2*left_fit_cr[0])\n",
    "    right_curverad = ((1 + (2*right_fit_cr[0]*y_eval*ym_per_pix + right_fit_cr[1])**2)**1.5) / np.absolute(2*right_fit_cr[0])\n",
    "    \n",
    "    return left_curverad, right_curverad"
   ]
  },
  {
   "cell_type": "markdown",
   "metadata": {},
   "source": [
    "# Measure distance from center"
   ]
  },
  {
   "cell_type": "markdown",
   "metadata": {},
   "source": [
    "# Draw Lane Lines"
   ]
  },
  {
   "cell_type": "code",
   "execution_count": null,
   "metadata": {},
   "outputs": [],
   "source": [
    "def draw_lines(binary_warp, image, M_inv, left_fitx, right_fitx, ploty):\n",
    "    # Create an image to draw the lines on\n",
    "    warp_zero = np.zeros_like(binary_warp).astype(np.uint8)\n",
    "    color_warp = np.dstack((warp_zero, warp_zero, warp_zero))\n",
    "\n",
    "    # Recast the x and y points into usable format for cv2.fillPoly()\n",
    "    pts_left = np.array([np.transpose(np.vstack([left_fitx, ploty]))])\n",
    "    pts_right = np.array([np.flipud(np.transpose(np.vstack([right_fitx, ploty])))])\n",
    "    pts = np.hstack((pts_left, pts_right))\n",
    "\n",
    "    # Draw the lane onto the warped blank image\n",
    "    cv2.fillPoly(color_warp, np.int_([pts]), (0,255, 0))\n",
    "\n",
    "    # Warp the blank back to original image space using inverse perspective matrix (Minv)\n",
    "    newwarp = cv2.warpPerspective(color_warp, M_inv, (image.shape[1], image.shape[0]))\n",
    "    \n",
    "    # Combine the result with the original image\n",
    "    result = cv2.addWeighted(image, 1, newwarp, 0.3, 0)\n",
    "    \n",
    "    return result"
   ]
  },
  {
   "cell_type": "markdown",
   "metadata": {},
   "source": [
    "# Video Processing"
   ]
  },
  {
   "cell_type": "code",
   "execution_count": null,
   "metadata": {},
   "outputs": [],
   "source": [
    "# define Line class to track lines frame by frame\n",
    "class Line():\n",
    "    def __init__(self):\n",
    "        # was the line detected in the last iteration?\n",
    "        self.detected = False\n",
    "        # plot y values to use in measuring curvature\n",
    "        self.ploty = np.linspace(0, 719, 720)\n",
    "        #polynomial coefficients for the most recent fit\n",
    "        self.current_fit = [np.array([False])]  \n",
    "        self.current_fit_meters = [np.array([False])]\n",
    "        #radius of curvature of the line in some units\n",
    "        self.radius_of_curvature_meters = None\n",
    "        #distance in meters of vehicle center from the line\n",
    "        self.line_base_pos = None "
   ]
  },
  {
   "cell_type": "code",
   "execution_count": null,
   "metadata": {},
   "outputs": [],
   "source": [
    "def process_image(image):\n",
    "    # undistort image\n",
    "    undistorted = undistort(image, mtx, dist)\n",
    "    \n",
    "    # threshold using Red channel and X gradient\n",
    "    sobel_x = abs_sobel_thresh(undistorted, orient='x', sobel_kernel=5, thresh=(20, 100)) # 20,40\n",
    "    S_thresh = hls_thresh(undistorted, channel='s', thresh=(90, 255)) # 100,240\n",
    "    combined = np.zeros_like(sobel_x)\n",
    "    combined[(S_thresh == 1) | (sobel_x == 1)] = 1\n",
    "    \n",
    "    # warp perspective to bird's eye view\n",
    "    binary_warped, M_inv = warp_perspective(combined, src, dest)\n",
    "    \n",
    "    # fit poly to lane lines\n",
    "    left_fitx, right_fitx, ploty = fit_polynomial(binary_warped)\n",
    "    \n",
    "    # draw lines on image\n",
    "    out_img = draw_lines(binary_warped, image, M_inv, left_fitx, right_fitx, ploty)\n",
    "    \n",
    "    # draw binary warped image onto output image\n",
    "    warp_color = np.dstack((binary_warped, binary_warped, binary_warped))\n",
    "    warp_color[binary_warped != 0] = 255\n",
    "    scalar = 1/4\n",
    "    new_size = (int(warp_color.shape[1]*scalar), int(binary_warped.shape[0]*scalar))\n",
    "    warp_resize = cv2.resize(warp_color, new_size)\n",
    "    out_img[50:50+new_size[1], 800:800+new_size[0]] = warp_resize\n",
    "    \n",
    "    # measure curvature in meters and output onto image\n",
    "    left_line.radius_of_curvature_meters = int(measure_curvature_real()[0])\n",
    "    right_line.radius_of_curvature_meters = int(measure_curvature_real()[1])\n",
    "    avg_curvature = (left_line.radius_of_curvature_meters + right_line.radius_of_curvature_meters) // 2\n",
    "    # output curvature onto image\n",
    "    curv_string = 'Radius of Curvature ='\n",
    "    curv_string2 = '{}(m)'.format(avg_curvature)\n",
    "    cv2.putText(out_img, curv_string, (20,60), cv2.FONT_HERSHEY_SIMPLEX, 2, (255,255,255))\n",
    "    cv2.putText(out_img, curv_string2, (20,120), cv2.FONT_HERSHEY_SIMPLEX, 2, (255,255,255))\n",
    "    \n",
    "    # measure distance from center in meters and output onto image\n",
    "    car_center = image.shape[1] // 2\n",
    "    lane_center = int(right_line.line_base_pos - left_line.line_base_pos)\n",
    "    offset = (lane_center - car_center) * (3.7/700) ### use 3.7/700 as meters per pixel in x direction\n",
    "    if offset > 0:\n",
    "        offset_string = 'Vehicle is'\n",
    "        offset_string2 = '{0:.2f}m left of center'.format(offset)\n",
    "    else:\n",
    "        offset_string = 'Vehicle is'\n",
    "        offset_string2 = '{0:.2f}m right of center'.format(np.absolute(offset))\n",
    "    # output offset onto image\n",
    "    cv2.putText(out_img, offset_string, (20, 180), cv2.FONT_HERSHEY_SIMPLEX, 2, (255,255,255))\n",
    "    cv2.putText(out_img, offset_string2, (20, 240), cv2.FONT_HERSHEY_SIMPLEX, 2, (255,255,255))\n",
    "\n",
    "    return out_img"
   ]
  },
  {
   "cell_type": "markdown",
   "metadata": {},
   "source": [
    "Test pipeline on test images"
   ]
  },
  {
   "cell_type": "code",
   "execution_count": null,
   "metadata": {},
   "outputs": [],
   "source": [
    "# create instances of Line() class for video processing\n",
    "left_line = Line()\n",
    "right_line = Line()"
   ]
  },
  {
   "cell_type": "code",
   "execution_count": null,
   "metadata": {
    "scrolled": false
   },
   "outputs": [],
   "source": [
    "test_images = glob.glob('test_images/*.jpg')\n",
    "image = cv2.imread(test_images[0])\n",
    "out_img = process_image(image)\n",
    "show_image(out_img, title='final result {}'.format(1))\n",
    "\n",
    "# for i,img in enumerate(test_images):\n",
    "#     image = cv2.imread(img)\n",
    "#     out_img = process_image(image)\n",
    "#     show_image(out_img, title='final result {}'.format(i+1))"
   ]
  },
  {
   "cell_type": "code",
   "execution_count": null,
   "metadata": {
    "scrolled": true
   },
   "outputs": [],
   "source": [
    "vid_output = 'output_images/output_video.mp4'\n",
    "clip1 = VideoFileClip(\"project_video.mp4\")\n",
    "white_clip = clip1.fl_image(process_image) \n",
    "%time white_clip.write_videofile(vid_output, audio=False)"
   ]
  },
  {
   "cell_type": "code",
   "execution_count": null,
   "metadata": {
    "scrolled": false
   },
   "outputs": [],
   "source": [
    "HTML(\"\"\"\n",
    "<video width=\"960\" height=\"540\" controls>\n",
    "  <source src=\"{0}\">\n",
    "</video>\n",
    "\"\"\".format(vid_output))"
   ]
  },
  {
   "cell_type": "code",
   "execution_count": null,
   "metadata": {},
   "outputs": [],
   "source": []
  }
 ],
 "metadata": {
  "kernelspec": {
   "display_name": "Python 3",
   "language": "python",
   "name": "python3"
  },
  "language_info": {
   "codemirror_mode": {
    "name": "ipython",
    "version": 3
   },
   "file_extension": ".py",
   "mimetype": "text/x-python",
   "name": "python",
   "nbconvert_exporter": "python",
   "pygments_lexer": "ipython3",
   "version": "3.5.2"
  },
  "widgets": {
   "state": {},
   "version": "1.1.2"
  }
 },
 "nbformat": 4,
 "nbformat_minor": 2
}
